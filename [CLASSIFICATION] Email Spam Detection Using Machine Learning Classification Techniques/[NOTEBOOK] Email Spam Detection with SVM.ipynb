{
  "nbformat": 4,
  "nbformat_minor": 0,
  "metadata": {
    "colab": {
      "provenance": [],
      "toc_visible": true
    },
    "kernelspec": {
      "name": "python3",
      "display_name": "Python 3"
    },
    "language_info": {
      "name": "python"
    }
  },
  "cells": [
    {
      "cell_type": "code",
      "execution_count": null,
      "metadata": {
        "id": "T4BFxLSsAQln"
      },
      "outputs": [],
      "source": [
        "import pandas as pd\n",
        "import numpy as np\n",
        "import matplotlib.pyplot as plt\n",
        "import seaborn as sns\n",
        "from sklearn.model_selection import train_test_split\n",
        "from sklearn.feature_extraction.text import TfidfVectorizer\n",
        "from sklearn.preprocessing import LabelEncoder\n",
        "from sklearn.naive_bayes import MultinomialNB\n",
        "from sklearn.svm import SVC\n",
        "from sklearn.ensemble import RandomForestClassifier\n",
        "from sklearn.linear_model import LogisticRegression\n",
        "from sklearn.metrics import accuracy_score, precision_score, recall_score, f1_score, roc_auc_score\n",
        "from sklearn.metrics import confusion_matrix, classification_report\n",
        "import re\n",
        "import nltk\n",
        "from nltk.corpus import stopwords\n",
        "from nltk.stem import PorterStemmer\n",
        "import warnings\n",
        "warnings.filterwarnings('ignore')"
      ]
    },
    {
      "cell_type": "code",
      "source": [
        "nltk.download('stopwords')\n",
        "nltk.download('punkt')\n",
        "nltk.download('punkt_tab')"
      ],
      "metadata": {
        "colab": {
          "base_uri": "https://localhost:8080/"
        },
        "id": "IkOczMrrCcXe",
        "outputId": "ddb87d29-d636-4aea-9212-652ccbb7d708"
      },
      "execution_count": null,
      "outputs": [
        {
          "output_type": "stream",
          "name": "stderr",
          "text": [
            "[nltk_data] Downloading package stopwords to /root/nltk_data...\n",
            "[nltk_data]   Unzipping corpora/stopwords.zip.\n",
            "[nltk_data] Downloading package punkt to /root/nltk_data...\n",
            "[nltk_data]   Unzipping tokenizers/punkt.zip.\n",
            "[nltk_data] Downloading package punkt_tab to /root/nltk_data...\n",
            "[nltk_data]   Unzipping tokenizers/punkt_tab.zip.\n"
          ]
        },
        {
          "output_type": "execute_result",
          "data": {
            "text/plain": [
              "True"
            ]
          },
          "metadata": {},
          "execution_count": 2
        }
      ]
    },
    {
      "cell_type": "markdown",
      "source": [
        "## LOAD DATA"
      ],
      "metadata": {
        "id": "vN-eUidfCcB9"
      }
    },
    {
      "cell_type": "code",
      "source": [
        "import kagglehub\n",
        "\n",
        "path = kagglehub.dataset_download(\"purusinghvi/email-spam-classification-dataset\")\n",
        "\n",
        "print(\"Path to dataset files:\", path)"
      ],
      "metadata": {
        "colab": {
          "base_uri": "https://localhost:8080/"
        },
        "id": "WqBhJDG0C7Xv",
        "outputId": "31beb89d-5317-4807-ea01-695cc17cb1cc"
      },
      "execution_count": null,
      "outputs": [
        {
          "output_type": "stream",
          "name": "stdout",
          "text": [
            "Path to dataset files: /kaggle/input/email-spam-classification-dataset\n"
          ]
        }
      ]
    },
    {
      "cell_type": "code",
      "source": [
        "import os\n",
        "\n",
        "dataset_path = \"/kaggle/input/email-spam-classification-dataset\"\n",
        "print(os.listdir(dataset_path))"
      ],
      "metadata": {
        "colab": {
          "base_uri": "https://localhost:8080/"
        },
        "id": "F3OInN-QDDsZ",
        "outputId": "a31fb366-1a0b-459c-e302-3f351db35084"
      },
      "execution_count": null,
      "outputs": [
        {
          "output_type": "stream",
          "name": "stdout",
          "text": [
            "['combined_data.csv']\n"
          ]
        }
      ]
    },
    {
      "cell_type": "code",
      "source": [
        "import pandas as pd\n",
        "\n",
        "file_path = f\"{dataset_path}/combined_data.csv\"\n",
        "df = pd.read_csv(file_path)\n",
        "df.head()"
      ],
      "metadata": {
        "colab": {
          "base_uri": "https://localhost:8080/",
          "height": 204
        },
        "id": "xek-RZkxDJFZ",
        "outputId": "2dc781df-7d99-4d47-b7f3-53ca2b9051b1"
      },
      "execution_count": null,
      "outputs": [
        {
          "output_type": "execute_result",
          "data": {
            "text/plain": [
              "   label                                               text\n",
              "0      1  ounce feather bowl hummingbird opec moment ala...\n",
              "1      1  wulvob get your medircations online qnb ikud v...\n",
              "2      0   computer connection from cnn com wednesday es...\n",
              "3      1  university degree obtain a prosperous future m...\n",
              "4      0  thanks for all your answers guys i know i shou..."
            ],
            "text/html": [
              "\n",
              "  <div id=\"df-5d6694b0-8e5e-45a2-a878-a4471e408655\" class=\"colab-df-container\">\n",
              "    <div>\n",
              "<style scoped>\n",
              "    .dataframe tbody tr th:only-of-type {\n",
              "        vertical-align: middle;\n",
              "    }\n",
              "\n",
              "    .dataframe tbody tr th {\n",
              "        vertical-align: top;\n",
              "    }\n",
              "\n",
              "    .dataframe thead th {\n",
              "        text-align: right;\n",
              "    }\n",
              "</style>\n",
              "<table border=\"1\" class=\"dataframe\">\n",
              "  <thead>\n",
              "    <tr style=\"text-align: right;\">\n",
              "      <th></th>\n",
              "      <th>label</th>\n",
              "      <th>text</th>\n",
              "    </tr>\n",
              "  </thead>\n",
              "  <tbody>\n",
              "    <tr>\n",
              "      <th>0</th>\n",
              "      <td>1</td>\n",
              "      <td>ounce feather bowl hummingbird opec moment ala...</td>\n",
              "    </tr>\n",
              "    <tr>\n",
              "      <th>1</th>\n",
              "      <td>1</td>\n",
              "      <td>wulvob get your medircations online qnb ikud v...</td>\n",
              "    </tr>\n",
              "    <tr>\n",
              "      <th>2</th>\n",
              "      <td>0</td>\n",
              "      <td>computer connection from cnn com wednesday es...</td>\n",
              "    </tr>\n",
              "    <tr>\n",
              "      <th>3</th>\n",
              "      <td>1</td>\n",
              "      <td>university degree obtain a prosperous future m...</td>\n",
              "    </tr>\n",
              "    <tr>\n",
              "      <th>4</th>\n",
              "      <td>0</td>\n",
              "      <td>thanks for all your answers guys i know i shou...</td>\n",
              "    </tr>\n",
              "  </tbody>\n",
              "</table>\n",
              "</div>\n",
              "    <div class=\"colab-df-buttons\">\n",
              "\n",
              "  <div class=\"colab-df-container\">\n",
              "    <button class=\"colab-df-convert\" onclick=\"convertToInteractive('df-5d6694b0-8e5e-45a2-a878-a4471e408655')\"\n",
              "            title=\"Convert this dataframe to an interactive table.\"\n",
              "            style=\"display:none;\">\n",
              "\n",
              "  <svg xmlns=\"http://www.w3.org/2000/svg\" height=\"24px\" viewBox=\"0 -960 960 960\">\n",
              "    <path d=\"M120-120v-720h720v720H120Zm60-500h600v-160H180v160Zm220 220h160v-160H400v160Zm0 220h160v-160H400v160ZM180-400h160v-160H180v160Zm440 0h160v-160H620v160ZM180-180h160v-160H180v160Zm440 0h160v-160H620v160Z\"/>\n",
              "  </svg>\n",
              "    </button>\n",
              "\n",
              "  <style>\n",
              "    .colab-df-container {\n",
              "      display:flex;\n",
              "      gap: 12px;\n",
              "    }\n",
              "\n",
              "    .colab-df-convert {\n",
              "      background-color: #E8F0FE;\n",
              "      border: none;\n",
              "      border-radius: 50%;\n",
              "      cursor: pointer;\n",
              "      display: none;\n",
              "      fill: #1967D2;\n",
              "      height: 32px;\n",
              "      padding: 0 0 0 0;\n",
              "      width: 32px;\n",
              "    }\n",
              "\n",
              "    .colab-df-convert:hover {\n",
              "      background-color: #E2EBFA;\n",
              "      box-shadow: 0px 1px 2px rgba(60, 64, 67, 0.3), 0px 1px 3px 1px rgba(60, 64, 67, 0.15);\n",
              "      fill: #174EA6;\n",
              "    }\n",
              "\n",
              "    .colab-df-buttons div {\n",
              "      margin-bottom: 4px;\n",
              "    }\n",
              "\n",
              "    [theme=dark] .colab-df-convert {\n",
              "      background-color: #3B4455;\n",
              "      fill: #D2E3FC;\n",
              "    }\n",
              "\n",
              "    [theme=dark] .colab-df-convert:hover {\n",
              "      background-color: #434B5C;\n",
              "      box-shadow: 0px 1px 3px 1px rgba(0, 0, 0, 0.15);\n",
              "      filter: drop-shadow(0px 1px 2px rgba(0, 0, 0, 0.3));\n",
              "      fill: #FFFFFF;\n",
              "    }\n",
              "  </style>\n",
              "\n",
              "    <script>\n",
              "      const buttonEl =\n",
              "        document.querySelector('#df-5d6694b0-8e5e-45a2-a878-a4471e408655 button.colab-df-convert');\n",
              "      buttonEl.style.display =\n",
              "        google.colab.kernel.accessAllowed ? 'block' : 'none';\n",
              "\n",
              "      async function convertToInteractive(key) {\n",
              "        const element = document.querySelector('#df-5d6694b0-8e5e-45a2-a878-a4471e408655');\n",
              "        const dataTable =\n",
              "          await google.colab.kernel.invokeFunction('convertToInteractive',\n",
              "                                                    [key], {});\n",
              "        if (!dataTable) return;\n",
              "\n",
              "        const docLinkHtml = 'Like what you see? Visit the ' +\n",
              "          '<a target=\"_blank\" href=https://colab.research.google.com/notebooks/data_table.ipynb>data table notebook</a>'\n",
              "          + ' to learn more about interactive tables.';\n",
              "        element.innerHTML = '';\n",
              "        dataTable['output_type'] = 'display_data';\n",
              "        await google.colab.output.renderOutput(dataTable, element);\n",
              "        const docLink = document.createElement('div');\n",
              "        docLink.innerHTML = docLinkHtml;\n",
              "        element.appendChild(docLink);\n",
              "      }\n",
              "    </script>\n",
              "  </div>\n",
              "\n",
              "\n",
              "    <div id=\"df-8427b971-627d-4714-9acc-67ddd3f87509\">\n",
              "      <button class=\"colab-df-quickchart\" onclick=\"quickchart('df-8427b971-627d-4714-9acc-67ddd3f87509')\"\n",
              "                title=\"Suggest charts\"\n",
              "                style=\"display:none;\">\n",
              "\n",
              "<svg xmlns=\"http://www.w3.org/2000/svg\" height=\"24px\"viewBox=\"0 0 24 24\"\n",
              "     width=\"24px\">\n",
              "    <g>\n",
              "        <path d=\"M19 3H5c-1.1 0-2 .9-2 2v14c0 1.1.9 2 2 2h14c1.1 0 2-.9 2-2V5c0-1.1-.9-2-2-2zM9 17H7v-7h2v7zm4 0h-2V7h2v10zm4 0h-2v-4h2v4z\"/>\n",
              "    </g>\n",
              "</svg>\n",
              "      </button>\n",
              "\n",
              "<style>\n",
              "  .colab-df-quickchart {\n",
              "      --bg-color: #E8F0FE;\n",
              "      --fill-color: #1967D2;\n",
              "      --hover-bg-color: #E2EBFA;\n",
              "      --hover-fill-color: #174EA6;\n",
              "      --disabled-fill-color: #AAA;\n",
              "      --disabled-bg-color: #DDD;\n",
              "  }\n",
              "\n",
              "  [theme=dark] .colab-df-quickchart {\n",
              "      --bg-color: #3B4455;\n",
              "      --fill-color: #D2E3FC;\n",
              "      --hover-bg-color: #434B5C;\n",
              "      --hover-fill-color: #FFFFFF;\n",
              "      --disabled-bg-color: #3B4455;\n",
              "      --disabled-fill-color: #666;\n",
              "  }\n",
              "\n",
              "  .colab-df-quickchart {\n",
              "    background-color: var(--bg-color);\n",
              "    border: none;\n",
              "    border-radius: 50%;\n",
              "    cursor: pointer;\n",
              "    display: none;\n",
              "    fill: var(--fill-color);\n",
              "    height: 32px;\n",
              "    padding: 0;\n",
              "    width: 32px;\n",
              "  }\n",
              "\n",
              "  .colab-df-quickchart:hover {\n",
              "    background-color: var(--hover-bg-color);\n",
              "    box-shadow: 0 1px 2px rgba(60, 64, 67, 0.3), 0 1px 3px 1px rgba(60, 64, 67, 0.15);\n",
              "    fill: var(--button-hover-fill-color);\n",
              "  }\n",
              "\n",
              "  .colab-df-quickchart-complete:disabled,\n",
              "  .colab-df-quickchart-complete:disabled:hover {\n",
              "    background-color: var(--disabled-bg-color);\n",
              "    fill: var(--disabled-fill-color);\n",
              "    box-shadow: none;\n",
              "  }\n",
              "\n",
              "  .colab-df-spinner {\n",
              "    border: 2px solid var(--fill-color);\n",
              "    border-color: transparent;\n",
              "    border-bottom-color: var(--fill-color);\n",
              "    animation:\n",
              "      spin 1s steps(1) infinite;\n",
              "  }\n",
              "\n",
              "  @keyframes spin {\n",
              "    0% {\n",
              "      border-color: transparent;\n",
              "      border-bottom-color: var(--fill-color);\n",
              "      border-left-color: var(--fill-color);\n",
              "    }\n",
              "    20% {\n",
              "      border-color: transparent;\n",
              "      border-left-color: var(--fill-color);\n",
              "      border-top-color: var(--fill-color);\n",
              "    }\n",
              "    30% {\n",
              "      border-color: transparent;\n",
              "      border-left-color: var(--fill-color);\n",
              "      border-top-color: var(--fill-color);\n",
              "      border-right-color: var(--fill-color);\n",
              "    }\n",
              "    40% {\n",
              "      border-color: transparent;\n",
              "      border-right-color: var(--fill-color);\n",
              "      border-top-color: var(--fill-color);\n",
              "    }\n",
              "    60% {\n",
              "      border-color: transparent;\n",
              "      border-right-color: var(--fill-color);\n",
              "    }\n",
              "    80% {\n",
              "      border-color: transparent;\n",
              "      border-right-color: var(--fill-color);\n",
              "      border-bottom-color: var(--fill-color);\n",
              "    }\n",
              "    90% {\n",
              "      border-color: transparent;\n",
              "      border-bottom-color: var(--fill-color);\n",
              "    }\n",
              "  }\n",
              "</style>\n",
              "\n",
              "      <script>\n",
              "        async function quickchart(key) {\n",
              "          const quickchartButtonEl =\n",
              "            document.querySelector('#' + key + ' button');\n",
              "          quickchartButtonEl.disabled = true;  // To prevent multiple clicks.\n",
              "          quickchartButtonEl.classList.add('colab-df-spinner');\n",
              "          try {\n",
              "            const charts = await google.colab.kernel.invokeFunction(\n",
              "                'suggestCharts', [key], {});\n",
              "          } catch (error) {\n",
              "            console.error('Error during call to suggestCharts:', error);\n",
              "          }\n",
              "          quickchartButtonEl.classList.remove('colab-df-spinner');\n",
              "          quickchartButtonEl.classList.add('colab-df-quickchart-complete');\n",
              "        }\n",
              "        (() => {\n",
              "          let quickchartButtonEl =\n",
              "            document.querySelector('#df-8427b971-627d-4714-9acc-67ddd3f87509 button');\n",
              "          quickchartButtonEl.style.display =\n",
              "            google.colab.kernel.accessAllowed ? 'block' : 'none';\n",
              "        })();\n",
              "      </script>\n",
              "    </div>\n",
              "\n",
              "    </div>\n",
              "  </div>\n"
            ],
            "application/vnd.google.colaboratory.intrinsic+json": {
              "type": "dataframe",
              "variable_name": "df",
              "summary": "{\n  \"name\": \"df\",\n  \"rows\": 83448,\n  \"fields\": [\n    {\n      \"column\": \"label\",\n      \"properties\": {\n        \"dtype\": \"number\",\n        \"std\": 0,\n        \"min\": 0,\n        \"max\": 1,\n        \"num_unique_values\": 2,\n        \"samples\": [\n          0,\n          1\n        ],\n        \"semantic_type\": \"\",\n        \"description\": \"\"\n      }\n    },\n    {\n      \"column\": \"text\",\n      \"properties\": {\n        \"dtype\": \"string\",\n        \"num_unique_values\": 83446,\n        \"samples\": [\n          \"so hard that he can't find time to write to his friends escapenumberf take good care of him aescapenumber aescapenumber they also threatened to destroy fire away then since you are up commanded frank tell him without words so hard that he can't find time to write to his friends escapenumberf take good care of him so hard that he can't find time to write to his friends escapenumberf take good care of him bat's word was law in some things so molly had to submit and took boo away bow aescapenumber aescapenumberas if he had outgrown them and wanted something manlier he took to the hated as if he had outgrown them and wanted something manlier he took to the hated aescapenumber aescapenumberdown workwomen but wishes us to pay them well and economize in some other the house if you feel sociable and your evenings are always free come to me him near her and flapped her fan vigorously whenever he was in sight which with a bucket of water are not pleased for charlie is too presuming and you do need someone to help instantly laid away for repairs and its disappointed maker devoted his energies to helping aescapenumber aescapenumberhead wisely listening to my moral remarks mrs laurence and laurie paused for amy's aescapenumber escapelong how does she behave escapenumberf asked phebe longing for news but too grateful ants when their hill is disturbed of course half a dozen amiable souls posted to have you get thin and pale you know peggy was a jolly lass how beautiful it is cried fanny the drawer took up the little gray book which was her pride thinking christie when her hostess returned and found her warmed refreshed aescapenumber aescapenumber don't then emil who had got his breath by this time gave aescapenumber aescapenumberthen giving a great spring he shot through the air and landed safely anguish as she cried was himself again but it was evident that his sufferings were not smile and agile motion of every limb old ben carried the bag in one soon to tell her all about it you are your active life has done much in some ways to make a man warming and fill the kettle i'll see to the boy commanded mrs aescapenumber aescapenumberat work the sewing room was quite irresistible and he made himself aescapenumber aescapenumbereye showed that his love trials did not quite blind him to the comic aunt looked sober at first but he was so cool about it she couldn't from heart disease and the slightest excitement might kill us if pat while he curried lita till her coat shone like satin then drove is absent template better for it though the memory of it is still bitter and the cross aescapenumber aescapenumber i find don't be a with an unsparing hand institution had not yet made its rules as fixed as the laws of the medes aescapenumber aescapenumberuncle henry smiled and cuddled his little niece\",\n          \"bull market report lescapenumberkup adovcurrent escapenumber escapenumber day target price escapenumber escapelong steadily climb for the top this sym is gaining momentum adov have released very hot news check this out theorize and call to your brocker right now \"\n        ],\n        \"semantic_type\": \"\",\n        \"description\": \"\"\n      }\n    }\n  ]\n}"
            }
          },
          "metadata": {},
          "execution_count": 5
        }
      ]
    },
    {
      "cell_type": "markdown",
      "source": [
        "## EDA & PREPROCESSING"
      ],
      "metadata": {
        "id": "Iuyn5PhpAuVl"
      }
    },
    {
      "cell_type": "code",
      "source": [
        "print('Missing value:')\n",
        "print(df.isnull().sum())\n",
        "\n",
        "print('\\n\\nData duplikat:')\n",
        "print(df.duplicated().sum())"
      ],
      "metadata": {
        "colab": {
          "base_uri": "https://localhost:8080/"
        },
        "id": "9NpSE7L3Am7K",
        "outputId": "dfe9fd42-e6f2-48f6-cbdf-b7afffa5ea4d"
      },
      "execution_count": null,
      "outputs": [
        {
          "output_type": "stream",
          "name": "stdout",
          "text": [
            "Missing value:\n",
            "label    0\n",
            "text     0\n",
            "dtype: int64\n",
            "\n",
            "\n",
            "Data duplikat:\n",
            "0\n"
          ]
        }
      ]
    },
    {
      "cell_type": "code",
      "source": [
        "print(f\"Dataset shape: {df.shape}\")\n",
        "print(df.head())\n",
        "print(df.info())\n",
        "print(f\"Class distribution:\\n{df['label'].value_counts()}\")"
      ],
      "metadata": {
        "colab": {
          "base_uri": "https://localhost:8080/"
        },
        "id": "19ACuNlODOA4",
        "outputId": "37bf6c91-2a88-4806-ea59-9a4b90fa7b74"
      },
      "execution_count": null,
      "outputs": [
        {
          "output_type": "stream",
          "name": "stdout",
          "text": [
            "Dataset shape: (83448, 2)\n",
            "   label                                               text\n",
            "0      1  ounce feather bowl hummingbird opec moment ala...\n",
            "1      1  wulvob get your medircations online qnb ikud v...\n",
            "2      0   computer connection from cnn com wednesday es...\n",
            "3      1  university degree obtain a prosperous future m...\n",
            "4      0  thanks for all your answers guys i know i shou...\n",
            "<class 'pandas.core.frame.DataFrame'>\n",
            "RangeIndex: 83448 entries, 0 to 83447\n",
            "Data columns (total 2 columns):\n",
            " #   Column  Non-Null Count  Dtype \n",
            "---  ------  --------------  ----- \n",
            " 0   label   83448 non-null  int64 \n",
            " 1   text    83448 non-null  object\n",
            "dtypes: int64(1), object(1)\n",
            "memory usage: 1.3+ MB\n",
            "None\n",
            "Class distribution:\n",
            "label\n",
            "1    43910\n",
            "0    39538\n",
            "Name: count, dtype: int64\n"
          ]
        }
      ]
    },
    {
      "cell_type": "code",
      "source": [
        "plt.figure(figsize=(8, 6))\n",
        "sns.countplot(x='label', data=df)\n",
        "plt.title('Distribution of Email Classes')\n",
        "plt.xlabel('Class (0: Ham, 1: Spam)')\n",
        "plt.ylabel('Count')\n",
        "plt.show()"
      ],
      "metadata": {
        "colab": {
          "base_uri": "https://localhost:8080/",
          "height": 564
        },
        "id": "_KGBUW8yEN49",
        "outputId": "758f5f29-b04f-4e93-f436-73edeb55d5ef"
      },
      "execution_count": null,
      "outputs": [
        {
          "output_type": "display_data",
          "data": {
            "text/plain": [
              "<Figure size 800x600 with 1 Axes>"
            ],
            "image/png": "[encoded data removed]"
          },
          "metadata": {}
        }
      ]
    },
    {
      "cell_type": "code",
      "source": [
        "def preprocess_text(text):\n",
        "    # Convert to lowercase\n",
        "    text = text.lower()\n",
        "\n",
        "    # Remove HTML tags\n",
        "    text = re.sub(r'<.*?>', '', text)\n",
        "\n",
        "    # Remove special characters and numbers\n",
        "    text = re.sub(r'[^a-zA-Z\\s]', '', text)\n",
        "\n",
        "    # Tokenize\n",
        "    tokens = nltk.word_tokenize(text)\n",
        "\n",
        "    # Remove stopwords\n",
        "    stop_words = set(stopwords.words('english'))\n",
        "    tokens = [word for word in tokens if word not in stop_words]\n",
        "\n",
        "    # Stemming\n",
        "    stemmer = PorterStemmer()\n",
        "    tokens = [stemmer.stem(word) for word in tokens]\n",
        "\n",
        "    # Join tokens back to text\n",
        "    processed_text = ' '.join(tokens)\n",
        "\n",
        "    return processed_text"
      ],
      "metadata": {
        "id": "ftGPcuQQ2hmA"
      },
      "execution_count": null,
      "outputs": []
    },
    {
      "cell_type": "code",
      "source": [
        "from tqdm import tqdm\n",
        "tqdm.pandas()\n",
        "\n",
        "df['processed_text'] = df['text'].progress_apply(preprocess_text)"
      ],
      "metadata": {
        "colab": {
          "base_uri": "https://localhost:8080/"
        },
        "id": "WSUpRwHB3Std",
        "outputId": "515d9058-730b-4db1-962f-b55b83da6f3d"
      },
      "execution_count": null,
      "outputs": [
        {
          "output_type": "stream",
          "name": "stderr",
          "text": [
            "100%|██████████| 83448/83448 [06:15<00:00, 222.14it/s]\n"
          ]
        }
      ]
    },
    {
      "cell_type": "markdown",
      "source": [
        "## FEATURE ENGINEERING & MODELING"
      ],
      "metadata": {
        "id": "c67gD-Q5ERA9"
      }
    },
    {
      "cell_type": "code",
      "source": [
        "# Define the subset size as a fraction of the original data\n",
        "subset_fraction = 0.2  # Using 20% of the original data\n",
        "\n",
        "# Apply preprocessing only to the subset for now\n",
        "subset_df = df.sample(frac=subset_fraction, random_state=42)\n",
        "subset_df['processed_text'] = subset_df['text'].progress_apply(preprocess_text)"
      ],
      "metadata": {
        "colab": {
          "base_uri": "https://localhost:8080/"
        },
        "id": "MF87uqpaWzj4",
        "outputId": "23d7d169-4262-4f3f-8474-c856c14e99fd"
      },
      "execution_count": null,
      "outputs": [
        {
          "output_type": "stream",
          "name": "stderr",
          "text": [
            "100%|██████████| 16690/16690 [01:11<00:00, 233.38it/s]\n"
          ]
        }
      ]
    },
    {
      "cell_type": "code",
      "source": [
        "X = subset_df['processed_text']\n",
        "y = subset_df['label']\n",
        "le = LabelEncoder()\n",
        "y = le.fit_transform(y)\n",
        "\n",
        "X_train, X_temp, y_train, y_temp = train_test_split(X, y, test_size=0.3, random_state=42, stratify=y)\n",
        "X_val, X_test, y_val, y_test = train_test_split(X_temp, y_temp, test_size=0.5, random_state=42, stratify=y_temp)\n",
        "\n",
        "print(f\"Training set: {X_train.shape[0]} samples\")\n",
        "print(f\"Validation set: {X_val.shape[0]} samples\")\n",
        "print(f\"Testing set: {X_test.shape[0]} samples\")"
      ],
      "metadata": {
        "colab": {
          "base_uri": "https://localhost:8080/"
        },
        "id": "4Dg_RsP5Euee",
        "outputId": "0265e99c-edfc-42dc-dcc3-574de924a60a"
      },
      "execution_count": null,
      "outputs": [
        {
          "output_type": "stream",
          "name": "stdout",
          "text": [
            "Training set: 11683 samples\n",
            "Validation set: 2503 samples\n",
            "Testing set: 2504 samples\n"
          ]
        }
      ]
    },
    {
      "cell_type": "code",
      "source": [
        "# Feature extraction using TF-IDF - reduce max_features to speed up further\n",
        "vectorizer = TfidfVectorizer(max_features=2000, ngram_range=(1, 2))  # Reduced from 5000\n",
        "X_train_tfidf = vectorizer.fit_transform(X_train)\n",
        "X_val_tfidf = vectorizer.transform(X_val)\n",
        "X_test_tfidf = vectorizer.transform(X_test)"
      ],
      "metadata": {
        "id": "f-I-3vcqEwe7"
      },
      "execution_count": null,
      "outputs": []
    },
    {
      "cell_type": "code",
      "source": [
        "# Define models - simplify parameters for faster execution\n",
        "models = {\n",
        "    'Naive Bayes': MultinomialNB(),\n",
        "    'SVM': SVC(kernel='linear', probability=True, C=1.0),\n",
        "    'Random Forest': RandomForestClassifier(n_estimators=50, random_state=42),  # Reduced from 100\n",
        "    'Logistic Regression': LogisticRegression(random_state=42, max_iter=500)  # Reduced from 1000\n",
        "}"
      ],
      "metadata": {
        "id": "2enLJu7fEydX"
      },
      "execution_count": null,
      "outputs": []
    },
    {
      "cell_type": "code",
      "source": [
        "# Function to evaluate models\n",
        "def evaluate_model(model, X_train, X_test, y_train, y_test):\n",
        "    # Train the model\n",
        "    model.fit(X_train, y_train)\n",
        "\n",
        "    # Make predictions\n",
        "    y_pred = model.predict(X_test)\n",
        "\n",
        "    # Compute probabilities for ROC-AUC (if the model supports it)\n",
        "    try:\n",
        "        y_prob = model.predict_proba(X_test)[:, 1]\n",
        "    except:\n",
        "        # For models that don't have predict_proba\n",
        "        y_prob = model.decision_function(X_test)\n",
        "\n",
        "    # Calculate metrics\n",
        "    accuracy = accuracy_score(y_test, y_pred)\n",
        "    precision = precision_score(y_test, y_pred)\n",
        "    recall = recall_score(y_test, y_pred)\n",
        "    f1 = f1_score(y_test, y_pred)\n",
        "    roc_auc = roc_auc_score(y_test, y_prob)\n",
        "\n",
        "    return {\n",
        "        'accuracy': accuracy,\n",
        "        'precision': precision,\n",
        "        'recall': recall,\n",
        "        'f1': f1,\n",
        "        'roc_auc': roc_auc\n",
        "    }"
      ],
      "metadata": {
        "id": "kgv18fTXE_Mf"
      },
      "execution_count": null,
      "outputs": []
    },
    {
      "cell_type": "code",
      "source": [
        "# Initialize results dictionary\n",
        "model_results = {}\n",
        "\n",
        "# Train and evaluate models\n",
        "print(\"Training and evaluating models\")\n",
        "with tqdm(total=len(models), desc=\"Training and evaluating models\", dynamic_ncols=True) as pbar:\n",
        "    for name, model in models.items():\n",
        "        tqdm.write(f\"Training and evaluating {name}...\")\n",
        "        model_results[name] = evaluate_model(\n",
        "            model,\n",
        "            X_train_tfidf,\n",
        "            X_val_tfidf,\n",
        "            y_train,\n",
        "            y_val\n",
        "        )\n",
        "        pbar.update(1)"
      ],
      "metadata": {
        "colab": {
          "base_uri": "https://localhost:8080/"
        },
        "id": "1aUiDR5eYUjm",
        "outputId": "dea748ff-6d25-4ebc-bd3d-2988486d1e61"
      },
      "execution_count": null,
      "outputs": [
        {
          "output_type": "stream",
          "name": "stdout",
          "text": [
            "Training and evaluating models\n"
          ]
        },
        {
          "output_type": "stream",
          "name": "stderr",
          "text": [
            "Training and evaluating models:  25%|██▌       | 1/4 [00:00<00:00, 19.31it/s]"
          ]
        },
        {
          "output_type": "stream",
          "name": "stdout",
          "text": [
            "Training and evaluating Naive Bayes...\n",
            "Training and evaluating SVM...\n"
          ]
        },
        {
          "output_type": "stream",
          "name": "stderr",
          "text": [
            "Training and evaluating models:  50%|█████     | 2/4 [01:47<01:47, 53.68s/it]"
          ]
        },
        {
          "output_type": "stream",
          "name": "stdout",
          "text": [
            "Training and evaluating Random Forest...\n"
          ]
        },
        {
          "output_type": "stream",
          "name": "stderr",
          "text": [
            "Training and evaluating models: 100%|██████████| 4/4 [01:54<00:00, 28.70s/it]"
          ]
        },
        {
          "output_type": "stream",
          "name": "stdout",
          "text": [
            "Training and evaluating Logistic Regression...\n"
          ]
        },
        {
          "output_type": "stream",
          "name": "stderr",
          "text": [
            "\n"
          ]
        }
      ]
    },
    {
      "cell_type": "code",
      "source": [
        "# Display results in a DataFrame for easy comparison\n",
        "results_df = pd.DataFrame(model_results).T\n",
        "print(\"\\nModel Performance Metrics:\")\n",
        "print(results_df)"
      ],
      "metadata": {
        "colab": {
          "base_uri": "https://localhost:8080/"
        },
        "id": "j3YQqwnFYVrc",
        "outputId": "836b9d6a-27f2-4031-edb0-64ae980c8d53"
      },
      "execution_count": null,
      "outputs": [
        {
          "output_type": "stream",
          "name": "stdout",
          "text": [
            "\n",
            "Model Performance Metrics:\n",
            "                     accuracy  precision    recall        f1   roc_auc\n",
            "Naive Bayes          0.948062   0.941089  0.961158  0.951017  0.989207\n",
            "SVM                  0.974031   0.968468  0.982483  0.975425  0.996458\n",
            "Random Forest        0.970036   0.964715  0.978675  0.971645  0.995110\n",
            "Logistic Regression  0.968038   0.961798  0.977913  0.969789  0.995571\n"
          ]
        }
      ]
    },
    {
      "cell_type": "code",
      "source": [
        "# Find the best model based on F1 score\n",
        "best_model_name = results_df['f1'].idxmax()\n",
        "print(f\"\\nBest model based on F1 score: {best_model_name}\")\n",
        "print(f\"F1 score: {results_df.loc[best_model_name, 'f1']:.4f}\")"
      ],
      "metadata": {
        "colab": {
          "base_uri": "https://localhost:8080/"
        },
        "id": "GfL3k7U3YXxc",
        "outputId": "85a34077-88cc-4cf2-b0ed-602537212abf"
      },
      "execution_count": null,
      "outputs": [
        {
          "output_type": "stream",
          "name": "stdout",
          "text": [
            "\n",
            "Best model based on F1 score: SVM\n",
            "F1 score: 0.9754\n"
          ]
        }
      ]
    },
    {
      "cell_type": "code",
      "source": [
        "# Retrain best model on combined training and validation data\n",
        "X_train_val = pd.concat([X_train, X_val])\n",
        "y_train_val = np.concatenate([y_train, y_val])\n",
        "X_train_val_tfidf = vectorizer.fit_transform(X_train_val)\n",
        "X_test_tfidf = vectorizer.transform(X_test)\n",
        "\n",
        "best_model.fit(X_train_val_tfidf, y_train_val)\n",
        "y_pred = best_model.predict(X_test_tfidf)"
      ],
      "metadata": {
        "id": "R0KPmIEQa6_X"
      },
      "execution_count": null,
      "outputs": []
    },
    {
      "cell_type": "code",
      "source": [
        "# Final evaluation on test set\n",
        "print(\"\\nFinal Evaluation on Test Set:\")\n",
        "print(f\"Best Model: {best_model_name}\")\n",
        "print(f\"Accuracy: {accuracy_score(y_test, y_pred):.4f}\")\n",
        "print(f\"Precision: {precision_score(y_test, y_pred):.4f}\")\n",
        "print(f\"Recall: {recall_score(y_test, y_pred):.4f}\")\n",
        "print(f\"F1-Score: {f1_score(y_test, y_pred):.4f}\")\n",
        "print(\"\\nConfusion Matrix:\")\n",
        "cm = confusion_matrix(y_test, y_pred)\n",
        "plt.figure(figsize=(8, 6))\n",
        "sns.heatmap(cm, annot=True, fmt='d', cmap='Blues', xticklabels=['Ham', 'Spam'], yticklabels=['Ham', 'Spam'])\n",
        "plt.title('Confusion Matrix')\n",
        "plt.xlabel('Predicted Label')\n",
        "plt.ylabel('True Label')\n",
        "plt.show()\n",
        "\n",
        "print(\"\\nClassification Report:\")\n",
        "print(classification_report(y_test, y_pred, target_names=['Ham', 'Spam']))"
      ],
      "metadata": {
        "colab": {
          "base_uri": "https://localhost:8080/",
          "height": 904
        },
        "id": "mhZs6DSoa7Pe",
        "outputId": "30c902ec-7932-4b31-f3eb-6f395fa64f15"
      },
      "execution_count": null,
      "outputs": [
        {
          "output_type": "stream",
          "name": "stdout",
          "text": [
            "\n",
            "Final Evaluation on Test Set:\n",
            "Best Model: SVM\n",
            "Accuracy: 0.9712\n",
            "Precision: 0.9648\n",
            "Recall: 0.9810\n",
            "F1-Score: 0.9728\n",
            "\n",
            "Confusion Matrix:\n"
          ]
        },
        {
          "output_type": "display_data",
          "data": {
            "text/plain": [
              "<Figure size 800x600 with 2 Axes>"
            ],
            "image/png": "[encoded data removed]"
          },
          "metadata": {}
        },
        {
          "output_type": "stream",
          "name": "stdout",
          "text": [
            "\n",
            "Classification Report:\n",
            "              precision    recall  f1-score   support\n",
            "\n",
            "         Ham       0.98      0.96      0.97      1191\n",
            "        Spam       0.96      0.98      0.97      1313\n",
            "\n",
            "    accuracy                           0.97      2504\n",
            "   macro avg       0.97      0.97      0.97      2504\n",
            "weighted avg       0.97      0.97      0.97      2504\n",
            "\n"
          ]
        }
      ]
    },
    {
      "cell_type": "code",
      "source": [
        "# Feature importance analysis (for models that support it)\n",
        "\n",
        "if best_model_name == 'Random Forest':\n",
        "    # Get feature importances for Random Forest\n",
        "    feature_names = vectorizer.get_feature_names_out()\n",
        "    feature_importance = best_model.feature_importances_\n",
        "\n",
        "    # Sort features by importance\n",
        "    indices = np.argsort(feature_importance)[::-1]\n",
        "    top_n = 20\n",
        "\n",
        "    # Display top N features\n",
        "    print(f\"\\nTop {top_n} important features:\")\n",
        "    for i in range(top_n):\n",
        "        print(f\"{feature_names[indices[i]]}: {feature_importance[indices[i]]:.4f}\")\n",
        "\n",
        "    # Plot feature importance\n",
        "    plt.figure(figsize=(12, 8))\n",
        "    plt.barh(range(top_n), feature_importance[indices[:top_n]][::-1])\n",
        "    plt.yticks(range(top_n), [feature_names[i] for i in indices[:top_n]][::-1])\n",
        "    plt.xlabel('Feature Importance')\n",
        "    plt.title(f'Top {top_n} Important Features for Spam Detection')\n",
        "    plt.tight_layout()\n",
        "    plt.show()\n",
        "\n",
        "elif best_model_name == 'Logistic Regression' or best_model_name == 'SVM':\n",
        "    # Get coefficients for Logistic Regression or SVM with linear kernel\n",
        "    if hasattr(best_model, 'coef_'):\n",
        "        feature_names = vectorizer.get_feature_names_out()\n",
        "\n",
        "        # Convert coefficients to dense array\n",
        "        if hasattr(best_model.coef_, 'toarray'):\n",
        "            coefficients = best_model.coef_.toarray()[0]\n",
        "        else:\n",
        "            coefficients = best_model.coef_[0]\n",
        "\n",
        "        # Sort features by absolute coefficient values\n",
        "        indices = np.argsort(np.abs(coefficients))[::-1]\n",
        "        top_n = 20\n",
        "\n",
        "        # Display top N features\n",
        "        print(f\"\\nTop {top_n} important features:\")\n",
        "        for i in range(min(top_n, len(indices))):\n",
        "            coefficient_value = coefficients[indices[i]]\n",
        "            print(f\"{feature_names[indices[i]]}: {coefficient_value:.4f}\")\n",
        "\n",
        "        # Plot feature importance\n",
        "        plt.figure(figsize=(12, 8))\n",
        "        plt.barh(range(min(top_n, len(indices))), coefficients[indices[:top_n]][::-1])\n",
        "        plt.yticks(range(min(top_n, len(indices))), [feature_names[i] for i in indices[:top_n]][::-1])\n",
        "        plt.xlabel('Coefficient Value')\n",
        "        plt.title(f'Top {top_n} Important Features for Spam Detection')\n",
        "        plt.tight_layout()\n",
        "        plt.show()"
      ],
      "metadata": {
        "colab": {
          "base_uri": "https://localhost:8080/",
          "height": 1000
        },
        "id": "5Om1lSu-cbi0",
        "outputId": "85076253-8500-47a8-a801-37ff409344e6"
      },
      "execution_count": null,
      "outputs": [
        {
          "output_type": "stream",
          "name": "stdout",
          "text": [
            "\n",
            "Top 20 important features:\n",
            "wrote: -5.4068\n",
            "enron: -5.0526\n",
            "louis: -3.3730\n",
            "vinc: -3.2555\n",
            "samba: -3.0864\n",
            "thank: -3.0033\n",
            "debian: -2.9758\n",
            "doc: -2.9072\n",
            "perl: -2.8629\n",
            "http list: -2.8597\n",
            "daren: -2.6839\n",
            "houston: -2.5709\n",
            "org: -2.4691\n",
            "howstuffwork: -2.4481\n",
            "list: -2.3940\n",
            "cc: -2.3830\n",
            "cnn: -2.3790\n",
            "schedul: -2.3126\n",
            "risk: -2.2455\n",
            "forecast: -2.2080\n"
          ]
        },
        {
          "output_type": "display_data",
          "data": {
            "text/plain": [
              "<Figure size 1200x800 with 1 Axes>"
            ],
            "image/png": "[encoded data removed]"
          },
          "metadata": {}
        }
      ]
    },
    {
      "cell_type": "code",
      "source": [
        "# Sample prediction function\n",
        "def predict_spam(email_text, model, vectorizer):\n",
        "    # Preprocess the input text\n",
        "    processed_text = preprocess_text(email_text)\n",
        "\n",
        "    # Transform the text into TF-IDF features\n",
        "    tfidf_features = vectorizer.transform([processed_text])\n",
        "\n",
        "    # Make prediction\n",
        "    prediction = model.predict(tfidf_features)[0]\n",
        "\n",
        "    # Get probability (if applicable)\n",
        "    try:\n",
        "        probability = model.predict_proba(tfidf_features)[0][1]\n",
        "        return prediction, probability\n",
        "    except:\n",
        "        # For models without predict_proba\n",
        "        return prediction, None"
      ],
      "metadata": {
        "id": "AegIrebTcfk6"
      },
      "execution_count": null,
      "outputs": []
    },
    {
      "cell_type": "code",
      "source": [
        "# Test the model with sample emails\n",
        "sample_emails = [\n",
        "    \"Dear valued customer, Your account has been compromised. Please click the link to verify your identity and reset your password immediately.\",\n",
        "    \"Hi John, Just checking if we're still on for tomorrow's meeting at 2pm? Please let me know. Thanks, Mary\",\n",
        "    \"CONGRATULATIONS! You've won $1,000,000 in our lottery! To claim your prize, send your bank details and a processing fee of $100.\",\n",
        "    \"Meeting agenda for next week: 1. Project updates 2. Budget review 3. New client proposals\"\n",
        "]\n",
        "\n",
        "print(\"\\nSample Email Predictions:\")\n",
        "for i, email in enumerate(sample_emails):\n",
        "    prediction, probability = predict_spam(email, best_model, vectorizer)\n",
        "    label = \"Spam\" if prediction == 1 else \"Ham\"\n",
        "    prob_text = f\" (Probability: {probability:.4f})\" if probability is not None else \"\"\n",
        "    print(f\"Email {i+1}: {label}{prob_text}\")\n",
        "    print(f\"Text: {email[:100]}...\" if len(email) > 100 else f\"Text: {email}\")\n",
        "    print(\"-\" * 80)"
      ],
      "metadata": {
        "colab": {
          "base_uri": "https://localhost:8080/"
        },
        "id": "wdU3kapZepyA",
        "outputId": "95856641-e585-4e72-cf53-a8939ee89c7a"
      },
      "execution_count": null,
      "outputs": [
        {
          "output_type": "stream",
          "name": "stdout",
          "text": [
            "\n",
            "Sample Email Predictions:\n",
            "Email 1: Spam (Probability: 0.9964)\n",
            "Text: Dear valued customer, Your account has been compromised. Please click the link to verify your identi...\n",
            "--------------------------------------------------------------------------------\n",
            "Email 2: Ham (Probability: 0.0001)\n",
            "Text: Hi John, Just checking if we're still on for tomorrow's meeting at 2pm? Please let me know. Thanks, ...\n",
            "--------------------------------------------------------------------------------\n",
            "Email 3: Spam (Probability: 1.0000)\n",
            "Text: CONGRATULATIONS! You've won $1,000,000 in our lottery! To claim your prize, send your bank details a...\n",
            "--------------------------------------------------------------------------------\n",
            "Email 4: Ham (Probability: 0.0054)\n",
            "Text: Meeting agenda for next week: 1. Project updates 2. Budget review 3. New client proposals\n",
            "--------------------------------------------------------------------------------\n"
          ]
        }
      ]
    },
    {
      "cell_type": "code",
      "source": [],
      "metadata": {
        "id": "OiE3ZBk9esv-"
      },
      "execution_count": null,
      "outputs": []
    }
  ]
}